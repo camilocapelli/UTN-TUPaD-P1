{
 "cells": [
  {
   "cell_type": "markdown",
   "id": "d8c6f520",
   "metadata": {},
   "source": [
    "## Práctico 4: Estructuras repetitivas"
   ]
  },
  {
   "cell_type": "markdown",
   "id": "e756b207",
   "metadata": {},
   "source": [
    "1) Crea un programa que imprima en pantalla todos los números enteros desde 0 hasta 100\n",
    "(incluyendo ambos extremos), en orden creciente, mostrando un número por línea."
   ]
  },
  {
   "cell_type": "code",
   "execution_count": null,
   "id": "94b5140c",
   "metadata": {},
   "outputs": [],
   "source": [
    "for Numero in range(101):\n",
    "    print(Numero)"
   ]
  },
  {
   "cell_type": "markdown",
   "id": "a069fcb4",
   "metadata": {},
   "source": [
    "2) Desarrolla un programa que solicite al usuario un número entero y determine la cantidad de\n",
    "dígitos que contiene."
   ]
  },
  {
   "cell_type": "code",
   "execution_count": null,
   "id": "b810bd57",
   "metadata": {},
   "outputs": [],
   "source": [
    "Numero = int(input(\"Ingresá un número entero: \"))\n",
    "\n",
    "n = abs(Numero)\n",
    "Contador = 1 if n == 0 else 0\n",
    "\n",
    "while n > 0:\n",
    "    n = n // 10 \n",
    "    Contador += 1\n",
    "\n",
    "print(f\"El número tiene {Contador} dígito(s).\")\n"
   ]
  },
  {
   "cell_type": "markdown",
   "id": "88e6416a",
   "metadata": {},
   "source": [
    "3) Escribe un programa que sume todos los números enteros comprendidos entre dos valores\n",
    "dados por el usuario, excluyendo esos dos valores."
   ]
  },
  {
   "cell_type": "code",
   "execution_count": null,
   "id": "094e5670",
   "metadata": {},
   "outputs": [],
   "source": [
    "Num1 = int(input(\"Ingresá el primer número: \"))\n",
    "Num2 = int(input(\"Ingresá el segundo número: \"))\n",
    "\n",
    "if Num1 < Num2:\n",
    "    Menor = Num1\n",
    "    Mayor = Num2\n",
    "else:\n",
    "    Menor = Num2\n",
    "    Mayor = Num1\n",
    "\n",
    "Suma = 0\n",
    "\n",
    "for i in range(Menor + 1, Mayor):\n",
    "    Suma += i\n",
    "\n",
    "print(f\"La suma de los números enteros comprendidos entre {Menor} y {Mayor} (excluyéndolos) es: {Suma}\")"
   ]
  },
  {
   "cell_type": "markdown",
   "id": "268328fc",
   "metadata": {},
   "source": [
    "4) Elabora un programa que permita al usuario ingresar números enteros y los sume en secuencia. El programa debe detenerse y mostrar el total acumulado cuando el usuario ingrese un 0."
   ]
  },
  {
   "cell_type": "code",
   "execution_count": null,
   "id": "0bba2123",
   "metadata": {},
   "outputs": [],
   "source": [
    "Total_acumulado = 0\n",
    "Número = None  \n",
    "\n",
    "while Número != 0:\n",
    "    Número = int(input(\"Ingresa un número entero (0 para terminar): \"))\n",
    "    Total_acumulado += Número\n",
    "\n",
    "print(f\"El total acumulado es: {Total_acumulado}\")"
   ]
  },
  {
   "cell_type": "markdown",
   "id": "7233311d",
   "metadata": {},
   "source": [
    "5) Crea un juego en el que el usuario deba adivinar un número aleatorio entre 0 y 9. Al final, el programa debe mostrar cuántos intentos fueron necesarios para acertar el número."
   ]
  },
  {
   "cell_type": "code",
   "execution_count": null,
   "id": "8c3a11a0",
   "metadata": {},
   "outputs": [],
   "source": [
    "import random\n",
    "Num_aleatorio = random.randint(0, 9)\n",
    "\n",
    "Intentos = 0\n",
    "Adivinanza = -1 \n",
    "\n",
    "while Adivinanza != Num_aleatorio:\n",
    "    Adivinanza = int(input(\"Adivina el número entre 0 y 9: \"))\n",
    "    Intentos += 1\n",
    "\n",
    "    if Adivinanza == Num_aleatorio:\n",
    "        print(f\"¡Felicidades! Adivinaste el número en {Intentos} intentos.\")\n",
    "    else:\n",
    "        print(\"Intenta nuevamente.\")"
   ]
  },
  {
   "cell_type": "markdown",
   "id": "0ac61a73",
   "metadata": {},
   "source": [
    "6) Desarrolla un programa que imprima en pantalla todos los números pares comprendidos entre 0 y 100, en orden decreciente."
   ]
  },
  {
   "cell_type": "code",
   "execution_count": null,
   "id": "f0c39711",
   "metadata": {},
   "outputs": [],
   "source": [
    "for Num in range(100, -1, -2):\n",
    "    print(Num)"
   ]
  },
  {
   "cell_type": "markdown",
   "id": "7e1f1cbd",
   "metadata": {},
   "source": [
    "7) Crea un programa que calcule la suma de todos los números comprendidos entre 0 y un número entero positivo indicado por el usuario."
   ]
  },
  {
   "cell_type": "code",
   "execution_count": null,
   "id": "658b504c",
   "metadata": {},
   "outputs": [],
   "source": [
    "Num = int(input(\"Ingresa un número entero positivo: \"))\n",
    "\n",
    "Suma = 0\n",
    "for i in range(1, Num + 1):\n",
    "    Suma += i\n",
    "\n",
    "print(f\"La suma de todos los números entre 0 y {Num} es: {Suma}\")"
   ]
  },
  {
   "cell_type": "markdown",
   "id": "684e64c9",
   "metadata": {},
   "source": [
    "8) Escribe un programa que permita al usuario ingresar 100 números enteros. Luego, el programa debe indicar cuántos de estos números son pares, cuántos son impares, cuántos son negativos y cuántos son positivos."
   ]
  },
  {
   "cell_type": "code",
   "execution_count": null,
   "id": "77b97f7f",
   "metadata": {},
   "outputs": [],
   "source": [
    "Num_enteros = 100\n",
    "Pares = 0\n",
    "Impares = 0\n",
    "Negativos = 0\n",
    "Positivos = 0\n",
    "\n",
    "for i in range(Num_enteros):\n",
    "    Num = int(input(f\"Ingresemos {Num_enteros} números: {i+1}/{Num_enteros} \"))\n",
    "    \n",
    "    if Num % 2 == 0:\n",
    "        Pares += 1\n",
    "    else:\n",
    "        Impares += 1\n",
    "\n",
    "    if Num < 0:\n",
    "        Negativos += 1\n",
    "    elif numero > 0:\n",
    "        Positivos += 1\n",
    "\n",
    "print(f\"Cantidad de números pares: {Pares}\")\n",
    "print(f\"Cantidad de números impares: {Impares}\")\n",
    "print(f\"Cantidad de números negativos: {Negativos}\")\n",
    "print(f\"Cantidad de números positivos: {Positivos}\")\n"
   ]
  },
  {
   "cell_type": "markdown",
   "id": "3ee1f2cc",
   "metadata": {},
   "source": [
    "9) Elabora un programa que permita al usuario ingresar 100 números enteros y luego calcule la media de esos valores."
   ]
  },
  {
   "cell_type": "code",
   "execution_count": null,
   "id": "ebece2b0",
   "metadata": {},
   "outputs": [],
   "source": [
    "Suma = 0\n",
    "Cantidad_numeros = 100\n",
    "\n",
    "for i in range(Cantidad_numeros):\n",
    "    Num = int(input(f\"Ingresemos {Cantidad_numeros} números: {i+1}/{Cantidad_numeros} \"))\n",
    "    Suma += Num  \n",
    "\n",
    "Media = Suma / Cantidad_numeros\n",
    "print(f\"La media de los números ingresados es: {Media}\")\n"
   ]
  },
  {
   "cell_type": "markdown",
   "id": "1cb2cebb",
   "metadata": {},
   "source": [
    "10) Escribe un programa que invierta el orden de los dígitos de un número ingresado por el usuario."
   ]
  },
  {
   "cell_type": "code",
   "execution_count": null,
   "id": "1a5b016f",
   "metadata": {},
   "outputs": [],
   "source": [
    "Num = int(input(\"Ingresa un número entero: \"))\n",
    "Num_invertido = 0\n",
    "\n",
    "while Num > 0:\n",
    "    Digito = Num % 10\n",
    "    Num_invertido = Num_invertido * 10 + Digito\n",
    "    Num = Num // 10\n",
    "\n",
    "print(f\"El número invertido es: {Num_invertido}\")\n"
   ]
  }
 ],
 "metadata": {
  "kernelspec": {
   "display_name": "Python 3",
   "language": "python",
   "name": "python3"
  },
  "language_info": {
   "codemirror_mode": {
    "name": "ipython",
    "version": 3
   },
   "file_extension": ".py",
   "mimetype": "text/x-python",
   "name": "python",
   "nbconvert_exporter": "python",
   "pygments_lexer": "ipython3",
   "version": "3.13.3"
  }
 },
 "nbformat": 4,
 "nbformat_minor": 5
}

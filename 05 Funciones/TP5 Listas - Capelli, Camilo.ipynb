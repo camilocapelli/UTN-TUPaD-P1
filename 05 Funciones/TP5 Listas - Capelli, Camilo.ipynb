{
 "cells": [
  {
   "cell_type": "markdown",
   "id": "0116e6d7",
   "metadata": {},
   "source": [
    "## Práctico 5: Listas"
   ]
  },
  {
   "cell_type": "markdown",
   "id": "a62fdad7",
   "metadata": {},
   "source": [
    "1) Crear una lista con los números del 1 al 100 que sean múltiplos de 4. Utilizar la función range."
   ]
  },
  {
   "cell_type": "code",
   "execution_count": null,
   "id": "a464930d",
   "metadata": {},
   "outputs": [],
   "source": [
    "lista_multiplos_4 = list(range(4, 101, 4))\n",
    "print(lista_multiplos_4)"
   ]
  },
  {
   "cell_type": "markdown",
   "id": "de2286c5",
   "metadata": {},
   "source": [
    "2) Crear una lista con cinco elementos (colocar los elementos que más te gusten) y mostrar el penúltimo. ¡Puedes hacerlo como se muestra en los videos o bien investigar cómo funciona el indexing con números negativos!"
   ]
  },
  {
   "cell_type": "code",
   "execution_count": null,
   "id": "6f54544f",
   "metadata": {},
   "outputs": [],
   "source": [
    "Mi_lista = [\"Programación\", \"Milanesa\", \"VideoJuegos\", \"BocaJuniors\", \"Fútbol\"]\n",
    "Penultimo_elemento = Mi_lista[-2]\n",
    "print(f\"El penúltimo elemento es: {Penultimo_elemento}\")"
   ]
  },
  {
   "cell_type": "markdown",
   "id": "02906072",
   "metadata": {},
   "source": [
    "3) Crear una lista vacía, agregar tres palabras con append e imprimir la lista resultante por pantalla."
   ]
  },
  {
   "cell_type": "code",
   "execution_count": null,
   "id": "8aab5f4b",
   "metadata": {},
   "outputs": [],
   "source": [
    "Lista_vacia = []\n",
    "\n",
    "Lista_vacia.append(\"BocaJuniors\")\n",
    "Lista_vacia.append(\"Milanesa\")\n",
    "Lista_vacia.append(\"Programación\")\n",
    "\n",
    "print(Lista_vacia)"
   ]
  },
  {
   "cell_type": "markdown",
   "id": "702970a2",
   "metadata": {},
   "source": [
    "4) Reemplazar el segundo y último valor de la lista “animales” con las palabras “loro” y “oso”, respectivamente. Imprimir la lista resultante por pantalla. \n",
    "\n",
    "    animales = [\"perro\", \"gato\", \"conejo\", \"pez\"]"
   ]
  },
  {
   "cell_type": "code",
   "execution_count": null,
   "id": "0d8ae7f6",
   "metadata": {},
   "outputs": [],
   "source": [
    "Animales = [\"Perro\", \"Gato\", \"Conejo\", \"Pez\"]\n",
    "\n",
    "Animales[1] = \"Loro\"\n",
    "Animales[3] = \"Oso\"\n",
    "\n",
    "print(animales)"
   ]
  },
  {
   "cell_type": "markdown",
   "id": "da069af8",
   "metadata": {},
   "source": [
    "5) Analizar el siguiente programa y explicar con tus palabras qué es lo que realiza.\n",
    "\n",
    "    Numeros = [8, 15, 3, 22, 7] \n",
    "    \n",
    "    Numeros.remove (max(numeros))\n",
    "    \n",
    "    print (numeros)"
   ]
  },
  {
   "cell_type": "code",
   "execution_count": null,
   "id": "7b7f4d0e",
   "metadata": {},
   "outputs": [],
   "source": [
    "Numeros = [8, 15, 3, 22, 7] #Se crea la lista \"Numeros\"\n",
    "Numeros.remove (max(Numeros)) #La función \"max(Numeros)\" identifica el número mas grandede la lista Numeros, el 22 y lo remueve de la misma con \"Numeros.remove()\"\"\n",
    "print (Numeros) #finalmente se imprime la lista actualizada."
   ]
  },
  {
   "cell_type": "markdown",
   "id": "9e114c3c",
   "metadata": {},
   "source": [
    "6) Crear una lista con números del 10 al 30 (incluído), haciendo saltos de 5 en 5 y mostrar por pantalla los dos primeros."
   ]
  },
  {
   "cell_type": "code",
   "execution_count": null,
   "id": "fb000b8d",
   "metadata": {},
   "outputs": [],
   "source": [
    "Lista_numeros = list(range(10, 31, 5))\n",
    "\n",
    "print(Lista_numeros[:2])"
   ]
  },
  {
   "cell_type": "markdown",
   "id": "194db6f0",
   "metadata": {},
   "source": [
    "7) Reemplazar los dos valores centrales (índices 1 y 2) de la lista “autos” por dos nuevos valores cualesquiera.\n",
    "\n",
    "    autos = [\"sedan\", \"polo\", \"suran\", \"gol\"]"
   ]
  },
  {
   "cell_type": "code",
   "execution_count": null,
   "id": "2c90fcf6",
   "metadata": {},
   "outputs": [],
   "source": [
    "Autos = [\"Sedan\", \"Polo\", \"Suran\", \"Gol\"]\n",
    "\n",
    "Autos[1] = \"Up\"\n",
    "Autos[2] = \"Amarok\"\n",
    "\n",
    "print(Autos)"
   ]
  },
  {
   "cell_type": "markdown",
   "id": "94aef446",
   "metadata": {},
   "source": [
    "8) Crear una lista vacía llamada \"dobles\" y agregar el doble de 5, 10 y 15 usando append directamente. Imprimir la lista resultante por pantalla."
   ]
  },
  {
   "cell_type": "code",
   "execution_count": null,
   "id": "b42dd07e",
   "metadata": {},
   "outputs": [],
   "source": [
    "Dobles = []\n",
    "\n",
    "Dobles.append(5 * 2)\n",
    "Dobles.append(10 * 2)\n",
    "Dobles.append(15 * 2)\n",
    "\n",
    "print(Dobles)"
   ]
  },
  {
   "cell_type": "markdown",
   "id": "ca06c97a",
   "metadata": {},
   "source": [
    "9) Dada la lista “compras”, cuyos elementos representan los productos comprados por diferentes clientes:\n",
    "\n",
    "    compras = [[\"pan\", \"leche\"], [\"arroz\", \"fideos\", \"salsa\"], [\"agua\"]]\n",
    "\n",
    "    a) Agregar \"jugo\" a la lista del tercer cliente usando append.\n",
    "\n",
    "    b) Reemplazar \"fideos\" por \"tallarines\" en la lista del segundo cliente.\n",
    "\n",
    "    c) Eliminar \"pan\" de la lista del primer cliente.\n",
    "    \n",
    "    d) Imprimir la lista resultante por pantalla"
   ]
  },
  {
   "cell_type": "code",
   "execution_count": null,
   "id": "764f843e",
   "metadata": {},
   "outputs": [],
   "source": [
    "Compras = [[\"Pan\", \"Leche\"], [\"Arroz\", \"Fideos\", \"Salsa\"], [\"Agua\"]]\n",
    "\n",
    "Compras[2].append(\"Jugo\")\n",
    "Compras[1][1] = \"Tallarines\"\n",
    "Compras[0].remove(\"Pan\")\n",
    "\n",
    "print(Compras)"
   ]
  },
  {
   "cell_type": "markdown",
   "id": "151c53fa",
   "metadata": {},
   "source": [
    "10) Elaborar una lista anidada llamada “lista_anidada” que contenga los siguientes elementos:\n",
    "\n",
    "    ● Posición lista_anidada[0]: 15\n",
    "\n",
    "    ● Posición lista_anidada[1]: True\n",
    "\n",
    "    ● Posición lista_anidada[2][0]: 25.5\n",
    "\n",
    "    ● Posición lista_anidada[2][1]: 57.9\n",
    "\n",
    "    ● Posición lista_anidada[2][2]: 30.6\n",
    "\n",
    "    ● Posición lista_anidada[3]: False\n",
    "\n",
    "    Imprimir la lista resultante por pantalla."
   ]
  },
  {
   "cell_type": "code",
   "execution_count": null,
   "id": "91191b77",
   "metadata": {},
   "outputs": [],
   "source": [
    "Lista_anidada = [15, True, [25.5, 57.9, 30.6], False]\n",
    "\n",
    "print(Lista_anidada)"
   ]
  }
 ],
 "metadata": {
  "kernelspec": {
   "display_name": "Python 3",
   "language": "python",
   "name": "python3"
  },
  "language_info": {
   "codemirror_mode": {
    "name": "ipython",
    "version": 3
   },
   "file_extension": ".py",
   "mimetype": "text/x-python",
   "name": "python",
   "nbconvert_exporter": "python",
   "pygments_lexer": "ipython3",
   "version": "3.13.3"
  }
 },
 "nbformat": 4,
 "nbformat_minor": 5
}

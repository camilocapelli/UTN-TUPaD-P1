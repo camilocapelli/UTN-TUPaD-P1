{
 "cells": [
  {
   "cell_type": "markdown",
   "id": "1b65035d",
   "metadata": {},
   "source": [
    "## Práctico 3: Estructuras condicionales"
   ]
  },
  {
   "cell_type": "markdown",
   "id": "2032053b",
   "metadata": {},
   "source": [
    "1) Escribir un programa que solicite la edad del usuario. Si el usuario es mayor de 18 años, deberá mostrar un mensaje en pantalla que diga “Es mayor de edad”."
   ]
  },
  {
   "cell_type": "code",
   "execution_count": 1,
   "id": "6ad2164c",
   "metadata": {},
   "outputs": [
    {
     "name": "stdout",
     "output_type": "stream",
     "text": [
      "Eres mayor de edad\n"
     ]
    }
   ],
   "source": [
    "Edad = int(input(\"Ingresá tu edad: \"))\n",
    "if Edad > 18:\n",
    "    print(\"Eres mayor de edad\")"
   ]
  },
  {
   "cell_type": "markdown",
   "id": "1c8ef432",
   "metadata": {},
   "source": [
    "2. Escribir un programa que solicite su nota al usuario. Si la nota es mayor o igual a 6, deberá mostrar por pantalla un mensaje que diga “Aprobado”; en caso contrario deberá mostrar el mensaje “Desaprobado”."
   ]
  },
  {
   "cell_type": "code",
   "execution_count": null,
   "id": "58f8d61b",
   "metadata": {},
   "outputs": [],
   "source": [
    "Nota = int(input(\"Ingresá tu nota: \"))\n",
    "if Nota >= 6:\n",
    "    print(\"Aprobado\")\n",
    "else:\n",
    "    print(\"Desaprobado\")"
   ]
  },
  {
   "cell_type": "markdown",
   "id": "5ae22654",
   "metadata": {},
   "source": [
    "3) Escribir un programa que permita ingresar solo números pares. Si el usuario ingresa un número par, imprimir por en pantalla el mensaje \"Ha ingresado un número par\"; en caso contrario, imprimir por pantalla \"Por favor, ingrese un número par\". "
   ]
  },
  {
   "cell_type": "code",
   "execution_count": null,
   "id": "1f53f202",
   "metadata": {},
   "outputs": [],
   "source": [
    "Num = int(input(\"Ingrese un número. \"))\n",
    "\n",
    "if Num % 2 == 0:\n",
    "    print(\"Ha ingresado un número par\")\n",
    "else:\n",
    "    print(\"Por favor, ingrese un número par\")"
   ]
  },
  {
   "cell_type": "markdown",
   "id": "8bda9729",
   "metadata": {},
   "source": [
    "4) Escribir un programa que solicite al usuario su edad e imprima por pantalla a cuál de las siguientes categorías pertenece: \n",
    "\n",
    "    ● Niño/a: menor de 12 años. \n",
    "\n",
    "    ● Adolescente: mayor o igual que 12 años y menor que 18 años. \n",
    "\n",
    "    ● Adulto/a joven: mayor o igual que 18 años y menor que 30 años. \n",
    "\n",
    "    ● Adulto/a: mayor o igual que 30 años."
   ]
  },
  {
   "cell_type": "code",
   "execution_count": null,
   "id": "fe975700",
   "metadata": {},
   "outputs": [],
   "source": [
    "Edad = int(input(\"Ingrese su edad: \"))\n",
    "\n",
    "if Edad < 12:\n",
    "    print(\"Niño/a\")\n",
    "elif Edad >= 12 and edad < 18:\n",
    "    print(\"Adolescente\")\n",
    "elif Edad >= 18 and edad < 30:\n",
    "    print(\"Adulto/a joven\")\n",
    "else:\n",
    "    print(\"Adulto/a\")\n"
   ]
  },
  {
   "cell_type": "markdown",
   "id": "d9cb399a",
   "metadata": {},
   "source": [
    "5) Escribir un programa que permita introducir contraseñas de entre 8 y 14 caracteres (incluyendo 8 y 14). Si el usuario ingresa una contraseña de longitud adecuada, imprimir por en pantalla el mensaje \"Ha ingresado una contraseña correcta\"; en caso contrario, imprimir por pantalla \"Por favor, ingrese una contraseña de entre 8 y 14 caracteres\". "
   ]
  },
  {
   "cell_type": "code",
   "execution_count": 2,
   "id": "d2875fcb",
   "metadata": {},
   "outputs": [
    {
     "name": "stdout",
     "output_type": "stream",
     "text": [
      "Ha ingresado una contraseña correcta\n"
     ]
    }
   ],
   "source": [
    "Contraseña = input(\"Ingrese una contraseña: \")\n",
    "\n",
    "if 8 <= len(Contraseña) <= 14:\n",
    "    print(\"Ha ingresado una contraseña correcta\")\n",
    "else:\n",
    "    print(\"Por favor, ingrese una contraseña de entre 8 y 14 caracteres\")\n"
   ]
  },
  {
   "cell_type": "markdown",
   "id": "277606b8",
   "metadata": {},
   "source": [
    "6) El paquete statistics de python contiene funciones que permiten tomar una lista de números y calcular la moda, la mediana y la media de dichos números.\n",
    "La moda (mode), la mediana (median) y la media (mean) son parámetros estadísticos que se pueden utilizar para predecir la forma de una distribución normal a partir del siguiente criterio:\n",
    "    \n",
    "    ● Sesgo positivo o a la derecha: cuando la media es mayor que la mediana y, a su vez, la mediana es mayor que la moda. \n",
    "    \n",
    "    ● Sesgo negativo o a la izquierda: cuando la media es menor que la mediana y, a su vez, la mediana es menor que la moda. \n",
    "    \n",
    "    ● Sin sesgo: cuando la media, la mediana y la moda son iguales.\n",
    "\n",
    "    Teniendo en cuenta lo antes mencionado, escribir un programa que tome la lista numeros_aleatorios, calcule su moda, su mediana y su media y las compare para determinar si hay sesgo positivo, negativo o no hay sesgo. Imprimir el resultado por pantalla."
   ]
  },
  {
   "cell_type": "code",
   "execution_count": null,
   "id": "3eed5294",
   "metadata": {},
   "outputs": [],
   "source": [
    "from statistics import mode, median, mean\n",
    "import random\n",
    "\n",
    "Nums_aleatorios = [random.randint(1, 100) for i in range(50)]\n",
    "\n",
    "Media = mean(Nums_aleatorios)\n",
    "Mediana = median(Nums_aleatorios)\n",
    "Moda = mode(Nums_aleatorios)\n",
    "\n",
    "print(\"Números aleatorios:\", Nums_aleatorios)\n",
    "print(f\"Media: {Media}\")\n",
    "print(f\"Mediana: {Mediana}\")\n",
    "print(f\"Moda: {Moda}\")\n",
    "\n",
    "if Media > Mediana > Moda:\n",
    "    print(\"Sesgo positivo o a la derecha\")\n",
    "elif Media < Mediana < Moda:\n",
    "    print(\"Sesgo negativo o a la izquierda\")\n",
    "elif Media == Mediana == Moda:\n",
    "    print(\"Sin sesgo\")\n",
    "else:\n",
    "    print(\"No se puede determinar un sesgo claro\")\n"
   ]
  },
  {
   "cell_type": "markdown",
   "id": "ffc58c0b",
   "metadata": {},
   "source": [
    "7) Escribir un programa que solicite una frase o palabra al usuario. Si el string ingresado termina con vocal, añadir un signo de exclamación al final e imprimir el string resultante por pantalla; en caso contrario, dejar el string tal cual lo ingresó el usuario e imprimirlo por pantalla."
   ]
  },
  {
   "cell_type": "code",
   "execution_count": 5,
   "id": "31de5254",
   "metadata": {},
   "outputs": [
    {
     "name": "stdout",
     "output_type": "stream",
     "text": [
      "Nacho tiene que comer\n"
     ]
    }
   ],
   "source": [
    "Frase_palabra = input(\"Ingrese una frase o palabra: \")\n",
    "\n",
    "if Frase_palabra[-1].lower() in 'aeiou':\n",
    "    Frase_palabra += \"!\"\n",
    "\n",
    "print(Frase_palabra)\n"
   ]
  },
  {
   "cell_type": "markdown",
   "id": "d30800f4",
   "metadata": {},
   "source": [
    "8) Escribir un programa que solicite al usuario que ingrese su nombre y el número 1, 2 o 3 dependiendo de la opción que desee:\n",
    "  1. Si quiere su nombre en mayúsculas. Por ejemplo: PEDRO.\n",
    "  2. Si quiere su nombre en minúsculas. Por ejemplo: pedro.\n",
    "  3. Si quiere su nombre con la primera letra mayúscula. Por ejemplo: Pedro.\n",
    "\n",
    "  El programa debe transformar el nombre ingresado de acuerdo a la opción seleccionada por el usuario e imprimir el resultado por pantalla. "
   ]
  },
  {
   "cell_type": "code",
   "execution_count": null,
   "id": "4d0db4bc",
   "metadata": {},
   "outputs": [],
   "source": [
    "Nom = input(\"Ingrese su nombre \")\n",
    "\n",
    "print(\"¿Cómo desea ver su nombre?\")\n",
    "print(\"1. En mayúsculas\")\n",
    "print(\"2. En minúsculas\")\n",
    "print(\"3. Con la primera letra en mayúscula\")\n",
    "\n",
    "Opcion = input(\"Ingrese 1, 2 o 3 según su elección: \")\n",
    "\n",
    "if Opcion == \"1\":\n",
    "    print(Nom.upper())\n",
    "elif Opcion == \"2\":\n",
    "    print(Nom.lower())\n",
    "elif Opcion == \"3\":\n",
    "    print(Nom.title())\n",
    "else:\n",
    "    print(\"Opción no válida.\")\n"
   ]
  },
  {
   "cell_type": "markdown",
   "id": "9b2ea5f7",
   "metadata": {},
   "source": [
    "9) Escribir un programa que pida al usuario la magnitud de un terremoto, clasifique la magnitud en una de las siguientes categorías según la escala de Richter e imprima el resultado por pantalla:\n",
    "\n",
    "    ● Menor que 3: \"Muy leve\" (imperceptible).\n",
    "\n",
    "    ● Mayor o igual que 3 y menor que 4: \"Leve\" (ligeramente perceptible).\n",
    "    \n",
    "    ● Mayor o igual que 4 y menor que 5: \"Moderado\" (sentido por personas, pero generalmente no causa daños).\n",
    "    \n",
    "    ● Mayor o igual que 5 y menor que 6: \"Fuerte\" (puede causar daños en estructuras débiles).\n",
    "    \n",
    "    ● Mayor o igual que 6 y menor que 7: \"Muy Fuerte\" (puede causar daños significativos).\n",
    "    \n",
    "    ● Mayor o igual que 7: \"Extremo\" (puede causar graves daños a gran escala)."
   ]
  },
  {
   "cell_type": "code",
   "execution_count": null,
   "id": "4c6e35e7",
   "metadata": {},
   "outputs": [],
   "source": [
    "Magnitud = float(input(\"Ingrese la magnitud del terremoto: \"))\n",
    "\n",
    "if Magnitud < 3:\n",
    "    print(\"Muy leve (imperceptible).\")\n",
    "elif Magnitud < 4:\n",
    "    print(\"Leve (ligeramente perceptible).\")\n",
    "elif Magnitud < 5:\n",
    "    print(\"Moderado (sentido por personas, pero generalmente no causa daños).\")\n",
    "elif Magnitud < 6:\n",
    "    print(\"Fuerte (puede causar daños en estructuras débiles).\")\n",
    "elif Magnitud < 7:\n",
    "    print(\"Muy Fuerte (puede causar daños significativos).\")\n",
    "else:\n",
    "    print(\"Extremo (puede causar graves daños a gran escala).\")\n"
   ]
  },
  {
   "cell_type": "markdown",
   "id": "26fb8d28",
   "metadata": {},
   "source": [
    "10. Escribir un programa que pregunte al usuario en cuál hemisferio se encuentra (N/S), qué mes del año es y qué día es. El programa deberá utilizar esa información para imprimir por pantalla si el usuario se encuentra en otoño, invierno, primavera o verano."
   ]
  },
  {
   "cell_type": "code",
   "execution_count": 32,
   "id": "d25292ba",
   "metadata": {},
   "outputs": [
    {
     "name": "stdout",
     "output_type": "stream",
     "text": [
      "Te encuentras en Verano\n"
     ]
    }
   ],
   "source": [
    "Hemisferio = input(\"¿En qué hemisferio estás? (N/S): \").strip().upper()\n",
    "Mes = int(input(\"¿Qué mes del año es? (1-12): \"))\n",
    "Dia = int(input(\"¿Qué día es? (1-31): \"))\n",
    "\n",
    "def determinar_estacion(Hemisferio, Mes, Dia):\n",
    "    if Hemisferio == 'N':\n",
    "        if (Mes == 12 and Dia >= 21) or (Mes <= 3 and Dia <= 20):\n",
    "            return \"Invierno\"\n",
    "        elif (Mes == 3 and Dia >= 21) or (Mes <= 6 and Dia <= 20):\n",
    "            return \"Primavera\"\n",
    "        elif (Mes == 6 and Dia >= 21) or (Mes <= 9 and Dia <= 20):\n",
    "            return \"Verano\"\n",
    "        elif (Mes == 9 and Dia >= 21) or (Mes <= 12 and Dia <= 20):\n",
    "            return \"Otoño\"\n",
    "\n",
    "    elif Hemisferio == 'S':\n",
    "        if (Mes == 12 and Dia >= 21) or (Mes <= 3 and Dia <= 20):\n",
    "            return \"Verano\"\n",
    "        elif (Mes == 3 and Dia >= 21) or (Mes <= 6 and Dia <= 20):\n",
    "            return \"Otoño\"\n",
    "        elif (Mes == 6 and Dia >= 21) or (Mes <= 9 and Dia <= 20):\n",
    "            return \"Invierno\"\n",
    "        elif (Mes == 9 and Dia >= 21) or (Mes <= 12 and Dia <= 20):\n",
    "            return \"Primavera\"\n",
    "    else:\n",
    "        return \"Hemisferio no válido\"\n",
    "\n",
    "Estacion = determinar_estacion(Hemisferio, Mes, Dia)\n",
    "print(f\"Te encuentras en {Estacion}\")\n"
   ]
  }
 ],
 "metadata": {
  "kernelspec": {
   "display_name": "Python 3",
   "language": "python",
   "name": "python3"
  },
  "language_info": {
   "codemirror_mode": {
    "name": "ipython",
    "version": 3
   },
   "file_extension": ".py",
   "mimetype": "text/x-python",
   "name": "python",
   "nbconvert_exporter": "python",
   "pygments_lexer": "ipython3",
   "version": "3.13.3"
  }
 },
 "nbformat": 4,
 "nbformat_minor": 5
}
